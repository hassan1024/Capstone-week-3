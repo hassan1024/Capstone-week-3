{
 "cells": [
  {
   "cell_type": "markdown",
   "metadata": {},
   "source": [
    "<b>Part 1 - Build dataframe of toronto neighborhoods</B>"
   ]
  },
  {
   "cell_type": "code",
   "execution_count": null,
   "metadata": {},
   "outputs": [],
   "source": [
    "!conda install -c conda-forge geocoder geopy folium beautifulsoup4 --yes\n",
    "\n",
    "import numpy as np\n",
    "import pandas as pd\n",
    "import requests\n",
    "\n",
    "pd.set_option('display.max_columns', None)\n",
    "pd.set_option('display.max_rows', None)\n",
    "\n",
    "from bs4 import BeautifulSoup"
   ]
  },
  {
   "cell_type": "code",
   "execution_count": null,
   "metadata": {},
   "outputs": [],
   "source": [
    "sourcedata = requests.get('https://en.wikipedia.org/wiki/List_of_postal_codes_of_Canada:_M').text\n",
    "\n",
    "soup = BeautifulSoup(sourcedata, 'html.parser')\n",
    "postalCodes = []\n",
    "boroughs = []\n",
    "hoods = []\n",
    "for row in soup.find('table').find_all('tr'):\n",
    "    cells = row.find_all('td')\n",
    "    if(len(cells) > 0):\n",
    "        postalCodes.append(cells[0].text)\n",
    "        boroughs.append(cells[1].text)\n",
    "        hoods.append(cells[2].text.rstrip('\\n'))"
   ]
  },
  {
   "cell_type": "code",
   "execution_count": null,
   "metadata": {},
   "outputs": [],
   "source": [
    "temp = { 'PostalCode': postalCodes,\n",
    "        'Borough': boroughs,\n",
    "        'Neighborhood': hoods}\n",
    "postal_codes_df = pd.DataFrame.from_dict(temp)\n",
    "postal_codes_df.head()"
   ]
  },
  {
   "cell_type": "code",
   "execution_count": null,
   "metadata": {},
   "outputs": [],
   "source": [
    "postal_codes_df.replace(\"Not assigned\", np.nan, inplace=True)\n",
    "postal_codes_df.dropna(subset=['Borough'], inplace=True)\n",
    "postal_codes_df['Neighborhood'].fillna(postal_codes_df['Borough'], inplace=True)"
   ]
  },
  {
   "cell_type": "code",
   "execution_count": null,
   "metadata": {},
   "outputs": [],
   "source": [
    "postal_codes_df = postal_codes_df.groupby(['PostalCode','Borough'], as_index=False).agg(lambda x: ','.join(x))\n",
    "postal_codes_df.head()"
   ]
  },
  {
   "cell_type": "code",
   "execution_count": null,
   "metadata": {},
   "outputs": [],
   "source": [
    "postal_codes_df.shape"
   ]
  },
  {
   "cell_type": "markdown",
   "metadata": {},
   "source": [
    "<b>Part 2 - Add neighborhood coordinates using csv file</b>"
   ]
  },
  {
   "cell_type": "code",
   "execution_count": null,
   "metadata": {},
   "outputs": [],
   "source": [
    "coords_df = pd.read_csv(\"https://cocl.us/Geospatial_data\")\n",
    "coords_df.rename(columns={'Postal Code':'PostalCode'}, inplace = True)\n",
    "coords_df.head()"
   ]
  },
  {
   "cell_type": "code",
   "execution_count": null,
   "metadata": {},
   "outputs": [],
   "source": [
    "tempdf1 = postal_codes_df.set_index('PostalCode')\n",
    "tempdf2 = coords_df.set_index('PostalCode')\n",
    "toronto_coords_df = pd.concat([tempdf1, tempdf2], axis=1, join='inner')\n",
    "toronto_coords_df.reset_index(inplace=True)\n",
    "toronto_coords_df.head()"
   ]
  },
  {
   "cell_type": "markdown",
   "metadata": {},
   "source": [
    "<b>Part 3 - Explore the neighborhoods in Toronto</b>"
   ]
  },
  {
   "cell_type": "code",
   "execution_count": null,
   "metadata": {},
   "outputs": [],
   "source": [
    "from pandas.io.json import json_normalize\n",
    "import json\n",
    "import folium\n",
    "import matplotlib.cm as cm\n",
    "import matplotlib.colors as colors\n",
    "\n",
    "from geopy.geocoders import Nominatim\n",
    "import geocoder\n",
    "\n",
    "from sklearn.cluster import KMeans"
   ]
  },
  {
   "cell_type": "code",
   "execution_count": null,
   "metadata": {},
   "outputs": [],
   "source": [
    "g = geocoder.arcgis('Toronto Ontario')\n",
    "toronto_lat = g.latlng[0]\n",
    "toronto_lng = g.latlng[1]\n",
    "\n",
    "map_tr = folium.Map(location=[toronto_lat, toronto_lng], zoom_start=11)\n",
    "\n",
    "for lat, long, post, borough, hood in zip(toronto_coords_df['Latitude'], toronto_coords_df['Longitude'],toronto_coords_df['PostalCode'], toronto_coords_df['Borough'],toronto_coords_df['Neighborhood']):\n",
    "    label = \"{} ({}): {}\".format(borough, post, hood)\n",
    "    popup = folium.Popup(label, parse_html=True)\n",
    "    folium.CircleMarker(\n",
    "        [lat, long],\n",
    "        radius=5,\n",
    "        popup=popup,\n",
    "        color='blue',\n",
    "        fill=True,\n",
    "        fill_color='#3186cc',\n",
    "        fill_opacity=0.7,\n",
    "        parse_html=False).add_to(map_tr)\n",
    "map_tr"
   ]
  }
 ],
 "metadata": {
  "kernelspec": {
   "display_name": "Python 3",
   "language": "python",
   "name": "python3"
  },
  "language_info": {
   "codemirror_mode": {
    "name": "ipython",
    "version": 3
   },
   "file_extension": ".py",
   "mimetype": "text/x-python",
   "name": "python",
   "nbconvert_exporter": "python",
   "pygments_lexer": "ipython3",
   "version": "3.6.8"
  }
 },
 "nbformat": 4,
 "nbformat_minor": 2
}
